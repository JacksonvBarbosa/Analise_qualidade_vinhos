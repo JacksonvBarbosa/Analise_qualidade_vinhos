{
 "cells": [
  {
   "cell_type": "markdown",
   "id": "9b2997de",
   "metadata": {},
   "source": [
    "# Proposta\n",
    "\n",
    "A distribuidora de vinhos **FIAPWine** decidiu expandir seus horizontes e agora está importando vinhos tintos e branco portugueses, mais especificamente a marca \"Vinho Verde\", que fará sua carta de vinhos se tornar mais vasta aqui no Brasil.\n",
    "\n",
    "Fui designado para fazer as análises nos vinhos tintos, então é necessário que você siga os seguintes passos:\n",
    "\n",
    "1. Importe o dataset \"winequality-red.csv\" que pode ser baixado no seguinte link: https://archive.ics.uci.edu/ml/machine-learning-databases/wine-quality/winequality-red.csv\n",
    "\n",
    "2. Utilize o Pandas para verificar a estrutura do dataset (número de linhas, colunas, tipos de dados das colunas, etc).\n",
    "\n",
    "3. Limpe o dataset, removendo linhas duplicadas e tratando valores faltantes.\n",
    "\n",
    "4. Utilize o Matplotlib para visualizar as seguintes informações:\n",
    "\n",
    "    / a. Distribuição da acidez volátil por qualidade do vinho?\n",
    "\n",
    "    / b. Distribuição do teor alcóolico por qualidade do vinho?\n",
    "\n",
    "    / c. Relação entre acidez volátil e teor alcóolico?\n",
    "\n",
    "    / d. Relação entre acidez volátil e qualidade do vinho?\n",
    "\n",
    "5. Análise os resultados e responda às seguintes perguntas:\n",
    "\n",
    "    / d. Qual a acidez volátil média dos vinhos de qualidade elevada?\n",
    "\n",
    "    / d. Qual a relação entre teor alcóolico e qualidade do vinho?\n",
    "\n",
    "    / d. Há alguma relação entre acidez volátil e teor alcóolico?\n",
    "    \n",
    "    / d. Há alguma relação entre acidez volátil e qualidade do vinho?"
   ]
  },
  {
   "cell_type": "code",
   "execution_count": 1,
   "id": "426d0515",
   "metadata": {},
   "outputs": [],
   "source": [
    "import sys\n",
    "import os\n",
    "import pandas as pd\n",
    "\n",
    "# Caminho absoluto para a pasta do projeto (nível acima de 'src')\n",
    "project_root = os.path.abspath(\"..\")\n",
    "\n",
    "if project_root not in sys.path:\n",
    "    sys.path.append(project_root)\n",
    "\n",
    "# Importa Classes de objetos\n",
    "from src.etl.extract import extract_csv_processed\n",
    "from src.visualization.graficos import grafo_barra, grafo_heatmap"
   ]
  },
  {
   "cell_type": "code",
   "execution_count": 2,
   "id": "d9df1e4a",
   "metadata": {},
   "outputs": [
    {
     "data": {
      "application/vnd.microsoft.datawrangler.viewer.v0+json": {
       "columns": [
        {
         "name": "index",
         "rawType": "int64",
         "type": "integer"
        },
        {
         "name": "acidez_fixa",
         "rawType": "float64",
         "type": "float"
        },
        {
         "name": "acidez_volatil",
         "rawType": "float64",
         "type": "float"
        },
        {
         "name": "acido_citrico",
         "rawType": "float64",
         "type": "float"
        },
        {
         "name": "acucar_residual",
         "rawType": "float64",
         "type": "float"
        },
        {
         "name": "cloretos",
         "rawType": "float64",
         "type": "float"
        },
        {
         "name": "dioxido_enxofre_livre",
         "rawType": "float64",
         "type": "float"
        },
        {
         "name": "dioxido_enxofre_total",
         "rawType": "float64",
         "type": "float"
        },
        {
         "name": "densidade",
         "rawType": "float64",
         "type": "float"
        },
        {
         "name": "ph",
         "rawType": "float64",
         "type": "float"
        },
        {
         "name": "sulfatos",
         "rawType": "float64",
         "type": "float"
        },
        {
         "name": "alcool",
         "rawType": "float64",
         "type": "float"
        },
        {
         "name": "qualidade",
         "rawType": "int64",
         "type": "integer"
        }
       ],
       "ref": "ee59de9a-de78-4b4a-8efe-b8cd240013c3",
       "rows": [
        [
         "0",
         "7.4",
         "0.7",
         "0.0",
         "1.9",
         "0.076",
         "11.0",
         "34.0",
         "0.9978",
         "3.51",
         "0.56",
         "9.4",
         "5"
        ],
        [
         "1",
         "7.8",
         "0.88",
         "0.0",
         "2.6",
         "0.098",
         "25.0",
         "67.0",
         "0.9968",
         "3.2",
         "0.68",
         "9.8",
         "5"
        ],
        [
         "2",
         "7.8",
         "0.76",
         "0.04",
         "2.3",
         "0.092",
         "15.0",
         "54.0",
         "0.997",
         "3.26",
         "0.65",
         "9.8",
         "5"
        ],
        [
         "3",
         "11.2",
         "0.28",
         "0.56",
         "1.9",
         "0.075",
         "17.0",
         "60.0",
         "0.998",
         "3.16",
         "0.58",
         "9.8",
         "6"
        ],
        [
         "4",
         "7.4",
         "0.7",
         "0.0",
         "1.9",
         "0.076",
         "11.0",
         "34.0",
         "0.9978",
         "3.51",
         "0.56",
         "9.4",
         "5"
        ],
        [
         "5",
         "7.4",
         "0.66",
         "0.0",
         "1.8",
         "0.075",
         "13.0",
         "40.0",
         "0.9978",
         "3.51",
         "0.56",
         "9.4",
         "5"
        ],
        [
         "6",
         "7.9",
         "0.6",
         "0.06",
         "1.6",
         "0.069",
         "15.0",
         "59.0",
         "0.9964",
         "3.3",
         "0.46",
         "9.4",
         "5"
        ],
        [
         "7",
         "7.3",
         "0.65",
         "0.0",
         "1.2",
         "0.065",
         "15.0",
         "21.0",
         "0.9946",
         "3.39",
         "0.47",
         "10.0",
         "7"
        ],
        [
         "8",
         "7.8",
         "0.58",
         "0.02",
         "2.0",
         "0.073",
         "9.0",
         "18.0",
         "0.9968",
         "3.36",
         "0.57",
         "9.5",
         "7"
        ],
        [
         "9",
         "7.5",
         "0.5",
         "0.36",
         "6.1",
         "0.071",
         "17.0",
         "102.0",
         "0.9978",
         "3.35",
         "0.8",
         "10.5",
         "5"
        ],
        [
         "10",
         "6.7",
         "0.58",
         "0.08",
         "1.8",
         "0.097",
         "15.0",
         "65.0",
         "0.9959",
         "3.28",
         "0.54",
         "9.2",
         "5"
        ],
        [
         "11",
         "7.5",
         "0.5",
         "0.36",
         "6.1",
         "0.071",
         "17.0",
         "102.0",
         "0.9978",
         "3.35",
         "0.8",
         "10.5",
         "5"
        ],
        [
         "12",
         "5.6",
         "0.615",
         "0.0",
         "1.6",
         "0.089",
         "16.0",
         "59.0",
         "0.9943",
         "3.58",
         "0.52",
         "9.9",
         "5"
        ],
        [
         "13",
         "7.8",
         "0.61",
         "0.29",
         "1.6",
         "0.114",
         "9.0",
         "29.0",
         "0.9974",
         "3.26",
         "1.56",
         "9.1",
         "5"
        ],
        [
         "14",
         "8.9",
         "0.62",
         "0.18",
         "3.8",
         "0.176",
         "52.0",
         "145.0",
         "0.9986",
         "3.16",
         "0.88",
         "9.2",
         "5"
        ],
        [
         "15",
         "8.9",
         "0.62",
         "0.19",
         "3.9",
         "0.17",
         "51.0",
         "148.0",
         "0.9986",
         "3.17",
         "0.93",
         "9.2",
         "5"
        ],
        [
         "16",
         "8.5",
         "0.28",
         "0.56",
         "1.8",
         "0.092",
         "35.0",
         "103.0",
         "0.9969",
         "3.3",
         "0.75",
         "10.5",
         "7"
        ],
        [
         "17",
         "8.1",
         "0.56",
         "0.28",
         "1.7",
         "0.368",
         "16.0",
         "56.0",
         "0.9968",
         "3.11",
         "1.28",
         "9.3",
         "5"
        ],
        [
         "18",
         "7.4",
         "0.59",
         "0.08",
         "4.4",
         "0.086",
         "6.0",
         "29.0",
         "0.9974",
         "3.38",
         "0.5",
         "9.0",
         "4"
        ],
        [
         "19",
         "7.9",
         "0.32",
         "0.51",
         "1.8",
         "0.341",
         "17.0",
         "56.0",
         "0.9969",
         "3.04",
         "1.08",
         "9.2",
         "6"
        ],
        [
         "20",
         "8.9",
         "0.22",
         "0.48",
         "1.8",
         "0.077",
         "29.0",
         "60.0",
         "0.9968",
         "3.39",
         "0.53",
         "9.4",
         "6"
        ],
        [
         "21",
         "7.6",
         "0.39",
         "0.31",
         "2.3",
         "0.082",
         "23.0",
         "71.0",
         "0.9982",
         "3.52",
         "0.65",
         "9.7",
         "5"
        ],
        [
         "22",
         "7.9",
         "0.43",
         "0.21",
         "1.6",
         "0.106",
         "10.0",
         "37.0",
         "0.9966",
         "3.17",
         "0.91",
         "9.5",
         "5"
        ],
        [
         "23",
         "8.5",
         "0.49",
         "0.11",
         "2.3",
         "0.084",
         "9.0",
         "67.0",
         "0.9968",
         "3.17",
         "0.53",
         "9.4",
         "5"
        ],
        [
         "24",
         "6.9",
         "0.4",
         "0.14",
         "2.4",
         "0.085",
         "21.0",
         "40.0",
         "0.9968",
         "3.43",
         "0.63",
         "9.7",
         "6"
        ],
        [
         "25",
         "6.3",
         "0.39",
         "0.16",
         "1.4",
         "0.08",
         "11.0",
         "23.0",
         "0.9955",
         "3.34",
         "0.56",
         "9.3",
         "5"
        ],
        [
         "26",
         "7.6",
         "0.41",
         "0.24",
         "1.8",
         "0.08",
         "4.0",
         "11.0",
         "0.9962",
         "3.28",
         "0.59",
         "9.5",
         "5"
        ],
        [
         "27",
         "7.9",
         "0.43",
         "0.21",
         "1.6",
         "0.106",
         "10.0",
         "37.0",
         "0.9966",
         "3.17",
         "0.91",
         "9.5",
         "5"
        ],
        [
         "28",
         "7.1",
         "0.71",
         "0.0",
         "1.9",
         "0.08",
         "14.0",
         "35.0",
         "0.9972",
         "3.47",
         "0.55",
         "9.4",
         "5"
        ],
        [
         "29",
         "7.8",
         "0.645",
         "0.0",
         "2.0",
         "0.082",
         "8.0",
         "16.0",
         "0.9964",
         "3.38",
         "0.59",
         "9.8",
         "6"
        ],
        [
         "30",
         "6.7",
         "0.675",
         "0.07",
         "2.4",
         "0.089",
         "17.0",
         "82.0",
         "0.9958",
         "3.35",
         "0.54",
         "10.1",
         "5"
        ],
        [
         "31",
         "6.9",
         "0.685",
         "0.0",
         "2.5",
         "0.105",
         "22.0",
         "37.0",
         "0.9966",
         "3.46",
         "0.57",
         "10.6",
         "6"
        ],
        [
         "32",
         "8.3",
         "0.655",
         "0.12",
         "2.3",
         "0.083",
         "15.0",
         "113.0",
         "0.9966",
         "3.17",
         "0.66",
         "9.8",
         "5"
        ],
        [
         "33",
         "6.9",
         "0.605",
         "0.12",
         "10.7",
         "0.073",
         "40.0",
         "83.0",
         "0.9993",
         "3.45",
         "0.52",
         "9.4",
         "6"
        ],
        [
         "34",
         "5.2",
         "0.32",
         "0.25",
         "1.8",
         "0.103",
         "13.0",
         "50.0",
         "0.9957",
         "3.38",
         "0.55",
         "9.2",
         "5"
        ],
        [
         "35",
         "7.8",
         "0.645",
         "0.0",
         "5.5",
         "0.086",
         "5.0",
         "18.0",
         "0.9986",
         "3.4",
         "0.55",
         "9.6",
         "6"
        ],
        [
         "36",
         "7.8",
         "0.6",
         "0.14",
         "2.4",
         "0.086",
         "3.0",
         "15.0",
         "0.9975",
         "3.42",
         "0.6",
         "10.8",
         "6"
        ],
        [
         "37",
         "8.1",
         "0.38",
         "0.28",
         "2.1",
         "0.066",
         "13.0",
         "30.0",
         "0.9968",
         "3.23",
         "0.73",
         "9.7",
         "7"
        ],
        [
         "38",
         "5.7",
         "1.13",
         "0.09",
         "1.5",
         "0.172",
         "7.0",
         "19.0",
         "0.994",
         "3.5",
         "0.48",
         "9.8",
         "4"
        ],
        [
         "39",
         "7.3",
         "0.45",
         "0.36",
         "5.9",
         "0.074",
         "12.0",
         "87.0",
         "0.9978",
         "3.33",
         "0.83",
         "10.5",
         "5"
        ],
        [
         "40",
         "7.3",
         "0.45",
         "0.36",
         "5.9",
         "0.074",
         "12.0",
         "87.0",
         "0.9978",
         "3.33",
         "0.83",
         "10.5",
         "5"
        ],
        [
         "41",
         "8.8",
         "0.61",
         "0.3",
         "2.8",
         "0.088",
         "17.0",
         "46.0",
         "0.9976",
         "3.26",
         "0.51",
         "9.3",
         "4"
        ],
        [
         "42",
         "7.5",
         "0.49",
         "0.2",
         "2.6",
         "0.332",
         "8.0",
         "14.0",
         "0.9968",
         "3.21",
         "0.9",
         "10.5",
         "6"
        ],
        [
         "43",
         "8.1",
         "0.66",
         "0.22",
         "2.2",
         "0.069",
         "9.0",
         "23.0",
         "0.9968",
         "3.3",
         "1.2",
         "10.3",
         "5"
        ],
        [
         "44",
         "6.8",
         "0.67",
         "0.02",
         "1.8",
         "0.05",
         "5.0",
         "11.0",
         "0.9962",
         "3.48",
         "0.52",
         "9.5",
         "5"
        ],
        [
         "45",
         "4.6",
         "0.52",
         "0.15",
         "2.1",
         "0.054",
         "8.0",
         "65.0",
         "0.9934",
         "3.9",
         "0.56",
         "13.1",
         "4"
        ],
        [
         "46",
         "7.7",
         "0.935",
         "0.43",
         "2.2",
         "0.114",
         "22.0",
         "114.0",
         "0.997",
         "3.25",
         "0.73",
         "9.2",
         "5"
        ],
        [
         "47",
         "8.7",
         "0.29",
         "0.52",
         "1.6",
         "0.113",
         "12.0",
         "37.0",
         "0.9969",
         "3.25",
         "0.58",
         "9.5",
         "5"
        ],
        [
         "48",
         "6.4",
         "0.4",
         "0.23",
         "1.6",
         "0.066",
         "5.0",
         "12.0",
         "0.9958",
         "3.34",
         "0.56",
         "9.2",
         "5"
        ],
        [
         "49",
         "5.6",
         "0.31",
         "0.37",
         "1.4",
         "0.074",
         "12.0",
         "96.0",
         "0.9954",
         "3.32",
         "0.58",
         "9.2",
         "5"
        ]
       ],
       "shape": {
        "columns": 12,
        "rows": 1599
       }
      },
      "text/html": [
       "<div>\n",
       "<style scoped>\n",
       "    .dataframe tbody tr th:only-of-type {\n",
       "        vertical-align: middle;\n",
       "    }\n",
       "\n",
       "    .dataframe tbody tr th {\n",
       "        vertical-align: top;\n",
       "    }\n",
       "\n",
       "    .dataframe thead th {\n",
       "        text-align: right;\n",
       "    }\n",
       "</style>\n",
       "<table border=\"1\" class=\"dataframe\">\n",
       "  <thead>\n",
       "    <tr style=\"text-align: right;\">\n",
       "      <th></th>\n",
       "      <th>acidez_fixa</th>\n",
       "      <th>acidez_volatil</th>\n",
       "      <th>acido_citrico</th>\n",
       "      <th>acucar_residual</th>\n",
       "      <th>cloretos</th>\n",
       "      <th>dioxido_enxofre_livre</th>\n",
       "      <th>dioxido_enxofre_total</th>\n",
       "      <th>densidade</th>\n",
       "      <th>ph</th>\n",
       "      <th>sulfatos</th>\n",
       "      <th>alcool</th>\n",
       "      <th>qualidade</th>\n",
       "    </tr>\n",
       "  </thead>\n",
       "  <tbody>\n",
       "    <tr>\n",
       "      <th>0</th>\n",
       "      <td>7.4</td>\n",
       "      <td>0.700</td>\n",
       "      <td>0.00</td>\n",
       "      <td>1.9</td>\n",
       "      <td>0.076</td>\n",
       "      <td>11.0</td>\n",
       "      <td>34.0</td>\n",
       "      <td>0.99780</td>\n",
       "      <td>3.51</td>\n",
       "      <td>0.56</td>\n",
       "      <td>9.4</td>\n",
       "      <td>5</td>\n",
       "    </tr>\n",
       "    <tr>\n",
       "      <th>1</th>\n",
       "      <td>7.8</td>\n",
       "      <td>0.880</td>\n",
       "      <td>0.00</td>\n",
       "      <td>2.6</td>\n",
       "      <td>0.098</td>\n",
       "      <td>25.0</td>\n",
       "      <td>67.0</td>\n",
       "      <td>0.99680</td>\n",
       "      <td>3.20</td>\n",
       "      <td>0.68</td>\n",
       "      <td>9.8</td>\n",
       "      <td>5</td>\n",
       "    </tr>\n",
       "    <tr>\n",
       "      <th>2</th>\n",
       "      <td>7.8</td>\n",
       "      <td>0.760</td>\n",
       "      <td>0.04</td>\n",
       "      <td>2.3</td>\n",
       "      <td>0.092</td>\n",
       "      <td>15.0</td>\n",
       "      <td>54.0</td>\n",
       "      <td>0.99700</td>\n",
       "      <td>3.26</td>\n",
       "      <td>0.65</td>\n",
       "      <td>9.8</td>\n",
       "      <td>5</td>\n",
       "    </tr>\n",
       "    <tr>\n",
       "      <th>3</th>\n",
       "      <td>11.2</td>\n",
       "      <td>0.280</td>\n",
       "      <td>0.56</td>\n",
       "      <td>1.9</td>\n",
       "      <td>0.075</td>\n",
       "      <td>17.0</td>\n",
       "      <td>60.0</td>\n",
       "      <td>0.99800</td>\n",
       "      <td>3.16</td>\n",
       "      <td>0.58</td>\n",
       "      <td>9.8</td>\n",
       "      <td>6</td>\n",
       "    </tr>\n",
       "    <tr>\n",
       "      <th>4</th>\n",
       "      <td>7.4</td>\n",
       "      <td>0.700</td>\n",
       "      <td>0.00</td>\n",
       "      <td>1.9</td>\n",
       "      <td>0.076</td>\n",
       "      <td>11.0</td>\n",
       "      <td>34.0</td>\n",
       "      <td>0.99780</td>\n",
       "      <td>3.51</td>\n",
       "      <td>0.56</td>\n",
       "      <td>9.4</td>\n",
       "      <td>5</td>\n",
       "    </tr>\n",
       "    <tr>\n",
       "      <th>...</th>\n",
       "      <td>...</td>\n",
       "      <td>...</td>\n",
       "      <td>...</td>\n",
       "      <td>...</td>\n",
       "      <td>...</td>\n",
       "      <td>...</td>\n",
       "      <td>...</td>\n",
       "      <td>...</td>\n",
       "      <td>...</td>\n",
       "      <td>...</td>\n",
       "      <td>...</td>\n",
       "      <td>...</td>\n",
       "    </tr>\n",
       "    <tr>\n",
       "      <th>1594</th>\n",
       "      <td>6.2</td>\n",
       "      <td>0.600</td>\n",
       "      <td>0.08</td>\n",
       "      <td>2.0</td>\n",
       "      <td>0.090</td>\n",
       "      <td>32.0</td>\n",
       "      <td>44.0</td>\n",
       "      <td>0.99490</td>\n",
       "      <td>3.45</td>\n",
       "      <td>0.58</td>\n",
       "      <td>10.5</td>\n",
       "      <td>5</td>\n",
       "    </tr>\n",
       "    <tr>\n",
       "      <th>1595</th>\n",
       "      <td>5.9</td>\n",
       "      <td>0.550</td>\n",
       "      <td>0.10</td>\n",
       "      <td>2.2</td>\n",
       "      <td>0.062</td>\n",
       "      <td>39.0</td>\n",
       "      <td>51.0</td>\n",
       "      <td>0.99512</td>\n",
       "      <td>3.52</td>\n",
       "      <td>0.76</td>\n",
       "      <td>11.2</td>\n",
       "      <td>6</td>\n",
       "    </tr>\n",
       "    <tr>\n",
       "      <th>1596</th>\n",
       "      <td>6.3</td>\n",
       "      <td>0.510</td>\n",
       "      <td>0.13</td>\n",
       "      <td>2.3</td>\n",
       "      <td>0.076</td>\n",
       "      <td>29.0</td>\n",
       "      <td>40.0</td>\n",
       "      <td>0.99574</td>\n",
       "      <td>3.42</td>\n",
       "      <td>0.75</td>\n",
       "      <td>11.0</td>\n",
       "      <td>6</td>\n",
       "    </tr>\n",
       "    <tr>\n",
       "      <th>1597</th>\n",
       "      <td>5.9</td>\n",
       "      <td>0.645</td>\n",
       "      <td>0.12</td>\n",
       "      <td>2.0</td>\n",
       "      <td>0.075</td>\n",
       "      <td>32.0</td>\n",
       "      <td>44.0</td>\n",
       "      <td>0.99547</td>\n",
       "      <td>3.57</td>\n",
       "      <td>0.71</td>\n",
       "      <td>10.2</td>\n",
       "      <td>5</td>\n",
       "    </tr>\n",
       "    <tr>\n",
       "      <th>1598</th>\n",
       "      <td>6.0</td>\n",
       "      <td>0.310</td>\n",
       "      <td>0.47</td>\n",
       "      <td>3.6</td>\n",
       "      <td>0.067</td>\n",
       "      <td>18.0</td>\n",
       "      <td>42.0</td>\n",
       "      <td>0.99549</td>\n",
       "      <td>3.39</td>\n",
       "      <td>0.66</td>\n",
       "      <td>11.0</td>\n",
       "      <td>6</td>\n",
       "    </tr>\n",
       "  </tbody>\n",
       "</table>\n",
       "<p>1599 rows × 12 columns</p>\n",
       "</div>"
      ],
      "text/plain": [
       "      acidez_fixa  acidez_volatil  acido_citrico  acucar_residual  cloretos  \\\n",
       "0             7.4           0.700           0.00              1.9     0.076   \n",
       "1             7.8           0.880           0.00              2.6     0.098   \n",
       "2             7.8           0.760           0.04              2.3     0.092   \n",
       "3            11.2           0.280           0.56              1.9     0.075   \n",
       "4             7.4           0.700           0.00              1.9     0.076   \n",
       "...           ...             ...            ...              ...       ...   \n",
       "1594          6.2           0.600           0.08              2.0     0.090   \n",
       "1595          5.9           0.550           0.10              2.2     0.062   \n",
       "1596          6.3           0.510           0.13              2.3     0.076   \n",
       "1597          5.9           0.645           0.12              2.0     0.075   \n",
       "1598          6.0           0.310           0.47              3.6     0.067   \n",
       "\n",
       "      dioxido_enxofre_livre  dioxido_enxofre_total  densidade    ph  sulfatos  \\\n",
       "0                      11.0                   34.0    0.99780  3.51      0.56   \n",
       "1                      25.0                   67.0    0.99680  3.20      0.68   \n",
       "2                      15.0                   54.0    0.99700  3.26      0.65   \n",
       "3                      17.0                   60.0    0.99800  3.16      0.58   \n",
       "4                      11.0                   34.0    0.99780  3.51      0.56   \n",
       "...                     ...                    ...        ...   ...       ...   \n",
       "1594                   32.0                   44.0    0.99490  3.45      0.58   \n",
       "1595                   39.0                   51.0    0.99512  3.52      0.76   \n",
       "1596                   29.0                   40.0    0.99574  3.42      0.75   \n",
       "1597                   32.0                   44.0    0.99547  3.57      0.71   \n",
       "1598                   18.0                   42.0    0.99549  3.39      0.66   \n",
       "\n",
       "      alcool  qualidade  \n",
       "0        9.4          5  \n",
       "1        9.8          5  \n",
       "2        9.8          5  \n",
       "3        9.8          6  \n",
       "4        9.4          5  \n",
       "...      ...        ...  \n",
       "1594    10.5          5  \n",
       "1595    11.2          6  \n",
       "1596    11.0          6  \n",
       "1597    10.2          5  \n",
       "1598    11.0          6  \n",
       "\n",
       "[1599 rows x 12 columns]"
      ]
     },
     "execution_count": 2,
     "metadata": {},
     "output_type": "execute_result"
    }
   ],
   "source": [
    "# Extrai dados processados\n",
    "input_path = 'arquivos_exploratorio.csv'\n",
    "\n",
    "df = extract_csv_processed(input_path)\n",
    "df"
   ]
  },
  {
   "cell_type": "markdown",
   "id": "2a164da8",
   "metadata": {},
   "source": [
    "# Análise Exploratória (EDA)"
   ]
  },
  {
   "cell_type": "code",
   "execution_count": 3,
   "id": "e6632b27",
   "metadata": {},
   "outputs": [
    {
     "data": {
      "text/plain": [
       "(1599, 12)"
      ]
     },
     "execution_count": 3,
     "metadata": {},
     "output_type": "execute_result"
    }
   ],
   "source": [
    "# Shape\n",
    "df.shape"
   ]
  },
  {
   "cell_type": "code",
   "execution_count": 4,
   "id": "c79bd894",
   "metadata": {},
   "outputs": [
    {
     "name": "stdout",
     "output_type": "stream",
     "text": [
      "<class 'pandas.core.frame.DataFrame'>\n",
      "RangeIndex: 1599 entries, 0 to 1598\n",
      "Data columns (total 12 columns):\n",
      " #   Column                 Non-Null Count  Dtype  \n",
      "---  ------                 --------------  -----  \n",
      " 0   acidez_fixa            1599 non-null   float64\n",
      " 1   acidez_volatil         1599 non-null   float64\n",
      " 2   acido_citrico          1599 non-null   float64\n",
      " 3   acucar_residual        1599 non-null   float64\n",
      " 4   cloretos               1599 non-null   float64\n",
      " 5   dioxido_enxofre_livre  1599 non-null   float64\n",
      " 6   dioxido_enxofre_total  1599 non-null   float64\n",
      " 7   densidade              1599 non-null   float64\n",
      " 8   ph                     1599 non-null   float64\n",
      " 9   sulfatos               1599 non-null   float64\n",
      " 10  alcool                 1599 non-null   float64\n",
      " 11  qualidade              1599 non-null   int64  \n",
      "dtypes: float64(11), int64(1)\n",
      "memory usage: 150.0 KB\n"
     ]
    }
   ],
   "source": [
    "#informação do dataframe\n",
    "df.info()"
   ]
  },
  {
   "cell_type": "code",
   "execution_count": 5,
   "id": "28a9ce9a",
   "metadata": {},
   "outputs": [
    {
     "data": {
      "application/vnd.microsoft.datawrangler.viewer.v0+json": {
       "columns": [
        {
         "name": "index",
         "rawType": "object",
         "type": "string"
        },
        {
         "name": "0",
         "rawType": "int64",
         "type": "integer"
        }
       ],
       "ref": "69d17e9a-8285-4e75-ab90-bcb7ba111767",
       "rows": [
        [
         "acidez_fixa",
         "0"
        ],
        [
         "acidez_volatil",
         "0"
        ],
        [
         "acido_citrico",
         "0"
        ],
        [
         "acucar_residual",
         "0"
        ],
        [
         "cloretos",
         "0"
        ],
        [
         "dioxido_enxofre_livre",
         "0"
        ],
        [
         "dioxido_enxofre_total",
         "0"
        ],
        [
         "densidade",
         "0"
        ],
        [
         "ph",
         "0"
        ],
        [
         "sulfatos",
         "0"
        ],
        [
         "alcool",
         "0"
        ],
        [
         "qualidade",
         "0"
        ]
       ],
       "shape": {
        "columns": 1,
        "rows": 12
       }
      },
      "text/plain": [
       "acidez_fixa              0\n",
       "acidez_volatil           0\n",
       "acido_citrico            0\n",
       "acucar_residual          0\n",
       "cloretos                 0\n",
       "dioxido_enxofre_livre    0\n",
       "dioxido_enxofre_total    0\n",
       "densidade                0\n",
       "ph                       0\n",
       "sulfatos                 0\n",
       "alcool                   0\n",
       "qualidade                0\n",
       "dtype: int64"
      ]
     },
     "execution_count": 5,
     "metadata": {},
     "output_type": "execute_result"
    }
   ],
   "source": [
    "# Dados Nulos\n",
    "df.isnull().sum()"
   ]
  },
  {
   "cell_type": "code",
   "execution_count": 6,
   "id": "4d97f72b",
   "metadata": {},
   "outputs": [
    {
     "data": {
      "application/vnd.microsoft.datawrangler.viewer.v0+json": {
       "columns": [
        {
         "name": "index",
         "rawType": "object",
         "type": "string"
        },
        {
         "name": "0",
         "rawType": "int64",
         "type": "integer"
        }
       ],
       "ref": "b98bce85-d283-4d67-ad06-2fe99db052a1",
       "rows": [
        [
         "acidez_fixa",
         "96"
        ],
        [
         "acidez_volatil",
         "143"
        ],
        [
         "acido_citrico",
         "80"
        ],
        [
         "acucar_residual",
         "91"
        ],
        [
         "cloretos",
         "153"
        ],
        [
         "dioxido_enxofre_livre",
         "60"
        ],
        [
         "dioxido_enxofre_total",
         "144"
        ],
        [
         "densidade",
         "436"
        ],
        [
         "ph",
         "89"
        ],
        [
         "sulfatos",
         "96"
        ],
        [
         "alcool",
         "65"
        ],
        [
         "qualidade",
         "6"
        ]
       ],
       "shape": {
        "columns": 1,
        "rows": 12
       }
      },
      "text/plain": [
       "acidez_fixa               96\n",
       "acidez_volatil           143\n",
       "acido_citrico             80\n",
       "acucar_residual           91\n",
       "cloretos                 153\n",
       "dioxido_enxofre_livre     60\n",
       "dioxido_enxofre_total    144\n",
       "densidade                436\n",
       "ph                        89\n",
       "sulfatos                  96\n",
       "alcool                    65\n",
       "qualidade                  6\n",
       "dtype: int64"
      ]
     },
     "execution_count": 6,
     "metadata": {},
     "output_type": "execute_result"
    }
   ],
   "source": [
    "# Quantidade única das colunas\n",
    "df.nunique()"
   ]
  },
  {
   "cell_type": "code",
   "execution_count": 7,
   "id": "455567f7",
   "metadata": {},
   "outputs": [
    {
     "data": {
      "application/vnd.microsoft.datawrangler.viewer.v0+json": {
       "columns": [
        {
         "name": "index",
         "rawType": "object",
         "type": "string"
        },
        {
         "name": "acidez_fixa",
         "rawType": "float64",
         "type": "float"
        },
        {
         "name": "acidez_volatil",
         "rawType": "float64",
         "type": "float"
        },
        {
         "name": "acido_citrico",
         "rawType": "float64",
         "type": "float"
        },
        {
         "name": "acucar_residual",
         "rawType": "float64",
         "type": "float"
        },
        {
         "name": "cloretos",
         "rawType": "float64",
         "type": "float"
        },
        {
         "name": "dioxido_enxofre_livre",
         "rawType": "float64",
         "type": "float"
        },
        {
         "name": "dioxido_enxofre_total",
         "rawType": "float64",
         "type": "float"
        },
        {
         "name": "densidade",
         "rawType": "float64",
         "type": "float"
        },
        {
         "name": "ph",
         "rawType": "float64",
         "type": "float"
        },
        {
         "name": "sulfatos",
         "rawType": "float64",
         "type": "float"
        },
        {
         "name": "alcool",
         "rawType": "float64",
         "type": "float"
        },
        {
         "name": "qualidade",
         "rawType": "float64",
         "type": "float"
        }
       ],
       "ref": "8217dbd1-ca91-446f-94ad-8078c1f7d1fc",
       "rows": [
        [
         "count",
         "1599.0",
         "1599.0",
         "1599.0",
         "1599.0",
         "1599.0",
         "1599.0",
         "1599.0",
         "1599.0",
         "1599.0",
         "1599.0",
         "1599.0",
         "1599.0"
        ],
        [
         "mean",
         "8.31963727329581",
         "0.5278205128205128",
         "0.2709756097560976",
         "2.53880550343965",
         "0.08746654158849279",
         "15.874921826141339",
         "46.46779237023139",
         "0.9967466791744841",
         "3.3111131957473416",
         "0.6581488430268917",
         "10.422983114446529",
         "5.6360225140712945"
        ],
        [
         "std",
         "1.7410963181276953",
         "0.17905970415353537",
         "0.19480113740531857",
         "1.4099280595072798",
         "0.0470653020100901",
         "10.460156969809725",
         "32.895324478299074",
         "0.0018873339538425554",
         "0.15438646490354277",
         "0.16950697959010996",
         "1.0656675818473946",
         "0.807569439734705"
        ],
        [
         "min",
         "4.6",
         "0.12",
         "0.0",
         "0.9",
         "0.012",
         "1.0",
         "6.0",
         "0.99007",
         "2.74",
         "0.33",
         "8.4",
         "3.0"
        ],
        [
         "25%",
         "7.1",
         "0.39",
         "0.09",
         "1.9",
         "0.07",
         "7.0",
         "22.0",
         "0.9956",
         "3.21",
         "0.55",
         "9.5",
         "5.0"
        ],
        [
         "50%",
         "7.9",
         "0.52",
         "0.26",
         "2.2",
         "0.079",
         "14.0",
         "38.0",
         "0.99675",
         "3.31",
         "0.62",
         "10.2",
         "6.0"
        ],
        [
         "75%",
         "9.2",
         "0.64",
         "0.42",
         "2.6",
         "0.09",
         "21.0",
         "62.0",
         "0.997835",
         "3.4",
         "0.73",
         "11.1",
         "6.0"
        ],
        [
         "max",
         "15.9",
         "1.58",
         "1.0",
         "15.5",
         "0.611",
         "72.0",
         "289.0",
         "1.00369",
         "4.01",
         "2.0",
         "14.9",
         "8.0"
        ]
       ],
       "shape": {
        "columns": 12,
        "rows": 8
       }
      },
      "text/html": [
       "<div>\n",
       "<style scoped>\n",
       "    .dataframe tbody tr th:only-of-type {\n",
       "        vertical-align: middle;\n",
       "    }\n",
       "\n",
       "    .dataframe tbody tr th {\n",
       "        vertical-align: top;\n",
       "    }\n",
       "\n",
       "    .dataframe thead th {\n",
       "        text-align: right;\n",
       "    }\n",
       "</style>\n",
       "<table border=\"1\" class=\"dataframe\">\n",
       "  <thead>\n",
       "    <tr style=\"text-align: right;\">\n",
       "      <th></th>\n",
       "      <th>acidez_fixa</th>\n",
       "      <th>acidez_volatil</th>\n",
       "      <th>acido_citrico</th>\n",
       "      <th>acucar_residual</th>\n",
       "      <th>cloretos</th>\n",
       "      <th>dioxido_enxofre_livre</th>\n",
       "      <th>dioxido_enxofre_total</th>\n",
       "      <th>densidade</th>\n",
       "      <th>ph</th>\n",
       "      <th>sulfatos</th>\n",
       "      <th>alcool</th>\n",
       "      <th>qualidade</th>\n",
       "    </tr>\n",
       "  </thead>\n",
       "  <tbody>\n",
       "    <tr>\n",
       "      <th>count</th>\n",
       "      <td>1599.000000</td>\n",
       "      <td>1599.000000</td>\n",
       "      <td>1599.000000</td>\n",
       "      <td>1599.000000</td>\n",
       "      <td>1599.000000</td>\n",
       "      <td>1599.000000</td>\n",
       "      <td>1599.000000</td>\n",
       "      <td>1599.000000</td>\n",
       "      <td>1599.000000</td>\n",
       "      <td>1599.000000</td>\n",
       "      <td>1599.000000</td>\n",
       "      <td>1599.000000</td>\n",
       "    </tr>\n",
       "    <tr>\n",
       "      <th>mean</th>\n",
       "      <td>8.319637</td>\n",
       "      <td>0.527821</td>\n",
       "      <td>0.270976</td>\n",
       "      <td>2.538806</td>\n",
       "      <td>0.087467</td>\n",
       "      <td>15.874922</td>\n",
       "      <td>46.467792</td>\n",
       "      <td>0.996747</td>\n",
       "      <td>3.311113</td>\n",
       "      <td>0.658149</td>\n",
       "      <td>10.422983</td>\n",
       "      <td>5.636023</td>\n",
       "    </tr>\n",
       "    <tr>\n",
       "      <th>std</th>\n",
       "      <td>1.741096</td>\n",
       "      <td>0.179060</td>\n",
       "      <td>0.194801</td>\n",
       "      <td>1.409928</td>\n",
       "      <td>0.047065</td>\n",
       "      <td>10.460157</td>\n",
       "      <td>32.895324</td>\n",
       "      <td>0.001887</td>\n",
       "      <td>0.154386</td>\n",
       "      <td>0.169507</td>\n",
       "      <td>1.065668</td>\n",
       "      <td>0.807569</td>\n",
       "    </tr>\n",
       "    <tr>\n",
       "      <th>min</th>\n",
       "      <td>4.600000</td>\n",
       "      <td>0.120000</td>\n",
       "      <td>0.000000</td>\n",
       "      <td>0.900000</td>\n",
       "      <td>0.012000</td>\n",
       "      <td>1.000000</td>\n",
       "      <td>6.000000</td>\n",
       "      <td>0.990070</td>\n",
       "      <td>2.740000</td>\n",
       "      <td>0.330000</td>\n",
       "      <td>8.400000</td>\n",
       "      <td>3.000000</td>\n",
       "    </tr>\n",
       "    <tr>\n",
       "      <th>25%</th>\n",
       "      <td>7.100000</td>\n",
       "      <td>0.390000</td>\n",
       "      <td>0.090000</td>\n",
       "      <td>1.900000</td>\n",
       "      <td>0.070000</td>\n",
       "      <td>7.000000</td>\n",
       "      <td>22.000000</td>\n",
       "      <td>0.995600</td>\n",
       "      <td>3.210000</td>\n",
       "      <td>0.550000</td>\n",
       "      <td>9.500000</td>\n",
       "      <td>5.000000</td>\n",
       "    </tr>\n",
       "    <tr>\n",
       "      <th>50%</th>\n",
       "      <td>7.900000</td>\n",
       "      <td>0.520000</td>\n",
       "      <td>0.260000</td>\n",
       "      <td>2.200000</td>\n",
       "      <td>0.079000</td>\n",
       "      <td>14.000000</td>\n",
       "      <td>38.000000</td>\n",
       "      <td>0.996750</td>\n",
       "      <td>3.310000</td>\n",
       "      <td>0.620000</td>\n",
       "      <td>10.200000</td>\n",
       "      <td>6.000000</td>\n",
       "    </tr>\n",
       "    <tr>\n",
       "      <th>75%</th>\n",
       "      <td>9.200000</td>\n",
       "      <td>0.640000</td>\n",
       "      <td>0.420000</td>\n",
       "      <td>2.600000</td>\n",
       "      <td>0.090000</td>\n",
       "      <td>21.000000</td>\n",
       "      <td>62.000000</td>\n",
       "      <td>0.997835</td>\n",
       "      <td>3.400000</td>\n",
       "      <td>0.730000</td>\n",
       "      <td>11.100000</td>\n",
       "      <td>6.000000</td>\n",
       "    </tr>\n",
       "    <tr>\n",
       "      <th>max</th>\n",
       "      <td>15.900000</td>\n",
       "      <td>1.580000</td>\n",
       "      <td>1.000000</td>\n",
       "      <td>15.500000</td>\n",
       "      <td>0.611000</td>\n",
       "      <td>72.000000</td>\n",
       "      <td>289.000000</td>\n",
       "      <td>1.003690</td>\n",
       "      <td>4.010000</td>\n",
       "      <td>2.000000</td>\n",
       "      <td>14.900000</td>\n",
       "      <td>8.000000</td>\n",
       "    </tr>\n",
       "  </tbody>\n",
       "</table>\n",
       "</div>"
      ],
      "text/plain": [
       "       acidez_fixa  acidez_volatil  acido_citrico  acucar_residual  \\\n",
       "count  1599.000000     1599.000000    1599.000000      1599.000000   \n",
       "mean      8.319637        0.527821       0.270976         2.538806   \n",
       "std       1.741096        0.179060       0.194801         1.409928   \n",
       "min       4.600000        0.120000       0.000000         0.900000   \n",
       "25%       7.100000        0.390000       0.090000         1.900000   \n",
       "50%       7.900000        0.520000       0.260000         2.200000   \n",
       "75%       9.200000        0.640000       0.420000         2.600000   \n",
       "max      15.900000        1.580000       1.000000        15.500000   \n",
       "\n",
       "          cloretos  dioxido_enxofre_livre  dioxido_enxofre_total    densidade  \\\n",
       "count  1599.000000            1599.000000            1599.000000  1599.000000   \n",
       "mean      0.087467              15.874922              46.467792     0.996747   \n",
       "std       0.047065              10.460157              32.895324     0.001887   \n",
       "min       0.012000               1.000000               6.000000     0.990070   \n",
       "25%       0.070000               7.000000              22.000000     0.995600   \n",
       "50%       0.079000              14.000000              38.000000     0.996750   \n",
       "75%       0.090000              21.000000              62.000000     0.997835   \n",
       "max       0.611000              72.000000             289.000000     1.003690   \n",
       "\n",
       "                ph     sulfatos       alcool    qualidade  \n",
       "count  1599.000000  1599.000000  1599.000000  1599.000000  \n",
       "mean      3.311113     0.658149    10.422983     5.636023  \n",
       "std       0.154386     0.169507     1.065668     0.807569  \n",
       "min       2.740000     0.330000     8.400000     3.000000  \n",
       "25%       3.210000     0.550000     9.500000     5.000000  \n",
       "50%       3.310000     0.620000    10.200000     6.000000  \n",
       "75%       3.400000     0.730000    11.100000     6.000000  \n",
       "max       4.010000     2.000000    14.900000     8.000000  "
      ]
     },
     "execution_count": 7,
     "metadata": {},
     "output_type": "execute_result"
    }
   ],
   "source": [
    "# Estatística Básica do Dataframe\n",
    "df.describe()"
   ]
  },
  {
   "cell_type": "code",
   "execution_count": 3,
   "id": "7650984b",
   "metadata": {},
   "outputs": [
    {
     "data": {
      "image/png": "[encoded data removed]",
      "text/plain": [
       "<Figure size 1000x600 with 2 Axes>"
      ]
     },
     "metadata": {},
     "output_type": "display_data"
    }
   ],
   "source": [
    "# Correlação das variáveis\n",
    "grafo_heatmap(df)"
   ]
  },
  {
   "cell_type": "code",
   "execution_count": 4,
   "id": "80437023",
   "metadata": {},
   "outputs": [
    {
     "data": {
      "application/vnd.microsoft.datawrangler.viewer.v0+json": {
       "columns": [
        {
         "name": "qualidade",
         "rawType": "int64",
         "type": "integer"
        },
        {
         "name": "acidez_volatil",
         "rawType": "float64",
         "type": "float"
        }
       ],
       "ref": "5d0d2c75-811a-406b-8b77-62bcbcc5716e",
       "rows": [
        [
         "3",
         "0.8845000000000001"
        ],
        [
         "4",
         "0.6939622641509434"
        ],
        [
         "5",
         "0.5770411160058737"
        ],
        [
         "6",
         "0.49748432601880876"
        ],
        [
         "7",
         "0.40391959798994975"
        ],
        [
         "8",
         "0.42333333333333334"
        ]
       ],
       "shape": {
        "columns": 1,
        "rows": 6
       }
      },
      "text/html": [
       "<div>\n",
       "<style scoped>\n",
       "    .dataframe tbody tr th:only-of-type {\n",
       "        vertical-align: middle;\n",
       "    }\n",
       "\n",
       "    .dataframe tbody tr th {\n",
       "        vertical-align: top;\n",
       "    }\n",
       "\n",
       "    .dataframe thead th {\n",
       "        text-align: right;\n",
       "    }\n",
       "</style>\n",
       "<table border=\"1\" class=\"dataframe\">\n",
       "  <thead>\n",
       "    <tr style=\"text-align: right;\">\n",
       "      <th></th>\n",
       "      <th>acidez_volatil</th>\n",
       "    </tr>\n",
       "    <tr>\n",
       "      <th>qualidade</th>\n",
       "      <th></th>\n",
       "    </tr>\n",
       "  </thead>\n",
       "  <tbody>\n",
       "    <tr>\n",
       "      <th>3</th>\n",
       "      <td>0.884500</td>\n",
       "    </tr>\n",
       "    <tr>\n",
       "      <th>4</th>\n",
       "      <td>0.693962</td>\n",
       "    </tr>\n",
       "    <tr>\n",
       "      <th>5</th>\n",
       "      <td>0.577041</td>\n",
       "    </tr>\n",
       "    <tr>\n",
       "      <th>6</th>\n",
       "      <td>0.497484</td>\n",
       "    </tr>\n",
       "    <tr>\n",
       "      <th>7</th>\n",
       "      <td>0.403920</td>\n",
       "    </tr>\n",
       "    <tr>\n",
       "      <th>8</th>\n",
       "      <td>0.423333</td>\n",
       "    </tr>\n",
       "  </tbody>\n",
       "</table>\n",
       "</div>"
      ],
      "text/plain": [
       "           acidez_volatil\n",
       "qualidade                \n",
       "3                0.884500\n",
       "4                0.693962\n",
       "5                0.577041\n",
       "6                0.497484\n",
       "7                0.403920\n",
       "8                0.423333"
      ]
     },
     "execution_count": 4,
     "metadata": {},
     "output_type": "execute_result"
    }
   ],
   "source": [
    "# Média de acidez volátil / qualidade\n",
    "media_acidez_qualidade = pd.DataFrame(df.groupby('qualidade')['acidez_volatil'].mean())\n",
    "media_acidez_qualidade"
   ]
  },
  {
   "cell_type": "markdown",
   "id": "511967e2",
   "metadata": {},
   "source": [
    "#### Observando váriaveis que estão correlacionadas com a qualidade do vinho"
   ]
  },
  {
   "cell_type": "code",
   "execution_count": 11,
   "id": "c219386e",
   "metadata": {},
   "outputs": [
    {
     "data": {
      "image/png": "[encoded data removed]",
      "text/plain": [
       "<Figure size 1000x600 with 1 Axes>"
      ]
     },
     "metadata": {},
     "output_type": "display_data"
    }
   ],
   "source": [
    "# Gráfico de barra Acídez Volátil / Qualidade do Vinho 0.39 de correlação\n",
    "grafo_barra(media_acidez_qualidade, media_acidez_qualidade.index, media_acidez_qualidade['acidez_volatil'], media_acidez_qualidade['acidez_volatil'], titulo='Acídez Volátil vs Qualidade', ylabel='Acidez Volátil (g/L)', xlabel='Qualidade')"
   ]
  },
  {
   "cell_type": "code",
   "execution_count": 8,
   "id": "6975e012",
   "metadata": {},
   "outputs": [
    {
     "data": {
      "application/vnd.microsoft.datawrangler.viewer.v0+json": {
       "columns": [
        {
         "name": "qualidade",
         "rawType": "int64",
         "type": "integer"
        },
        {
         "name": "alcool",
         "rawType": "float64",
         "type": "float"
        }
       ],
       "ref": "dab3bb5c-1efc-4592-b7a3-8d8067e98686",
       "rows": [
        [
         "3",
         "9.955"
        ],
        [
         "4",
         "10.26509433962264"
        ],
        [
         "5",
         "9.899706314243758"
        ],
        [
         "6",
         "10.629519331243468"
        ],
        [
         "7",
         "11.465912897822445"
        ],
        [
         "8",
         "12.094444444444443"
        ]
       ],
       "shape": {
        "columns": 1,
        "rows": 6
       }
      },
      "text/html": [
       "<div>\n",
       "<style scoped>\n",
       "    .dataframe tbody tr th:only-of-type {\n",
       "        vertical-align: middle;\n",
       "    }\n",
       "\n",
       "    .dataframe tbody tr th {\n",
       "        vertical-align: top;\n",
       "    }\n",
       "\n",
       "    .dataframe thead th {\n",
       "        text-align: right;\n",
       "    }\n",
       "</style>\n",
       "<table border=\"1\" class=\"dataframe\">\n",
       "  <thead>\n",
       "    <tr style=\"text-align: right;\">\n",
       "      <th></th>\n",
       "      <th>alcool</th>\n",
       "    </tr>\n",
       "    <tr>\n",
       "      <th>qualidade</th>\n",
       "      <th></th>\n",
       "    </tr>\n",
       "  </thead>\n",
       "  <tbody>\n",
       "    <tr>\n",
       "      <th>3</th>\n",
       "      <td>9.955000</td>\n",
       "    </tr>\n",
       "    <tr>\n",
       "      <th>4</th>\n",
       "      <td>10.265094</td>\n",
       "    </tr>\n",
       "    <tr>\n",
       "      <th>5</th>\n",
       "      <td>9.899706</td>\n",
       "    </tr>\n",
       "    <tr>\n",
       "      <th>6</th>\n",
       "      <td>10.629519</td>\n",
       "    </tr>\n",
       "    <tr>\n",
       "      <th>7</th>\n",
       "      <td>11.465913</td>\n",
       "    </tr>\n",
       "    <tr>\n",
       "      <th>8</th>\n",
       "      <td>12.094444</td>\n",
       "    </tr>\n",
       "  </tbody>\n",
       "</table>\n",
       "</div>"
      ],
      "text/plain": [
       "              alcool\n",
       "qualidade           \n",
       "3           9.955000\n",
       "4          10.265094\n",
       "5           9.899706\n",
       "6          10.629519\n",
       "7          11.465913\n",
       "8          12.094444"
      ]
     },
     "execution_count": 8,
     "metadata": {},
     "output_type": "execute_result"
    }
   ],
   "source": [
    "# Média de alcool / qualidade\n",
    "media_alcool_qualidade = pd.DataFrame(df.groupby('qualidade')['alcool'].mean())\n",
    "media_alcool_qualidade"
   ]
  },
  {
   "cell_type": "code",
   "execution_count": 12,
   "id": "f04e6907",
   "metadata": {},
   "outputs": [
    {
     "data": {
      "image/png": "[encoded data removed]",
      "text/plain": [
       "<Figure size 1000x600 with 1 Axes>"
      ]
     },
     "metadata": {},
     "output_type": "display_data"
    }
   ],
   "source": [
    "# Gráfico de barra alcool / Qualidade do Vinho 0.48 de correlação\n",
    "grafo_barra(media_alcool_qualidade, media_alcool_qualidade.index, media_alcool_qualidade['alcool'], media_alcool_qualidade['alcool'],titulo='Alcool vs qualidade do Vinho', ylabel='Teor Alcóolico (°GL)', xlabel='Qualidade de Vinho')"
   ]
  },
  {
   "cell_type": "code",
   "execution_count": null,
   "id": "0032de41",
   "metadata": {},
   "outputs": [
    {
     "data": {
      "application/vnd.microsoft.datawrangler.viewer.v0+json": {
       "columns": [
        {
         "name": "qualidade",
         "rawType": "int64",
         "type": "integer"
        },
        {
         "name": "sulfatos",
         "rawType": "float64",
         "type": "float"
        }
       ],
       "ref": "560e21fa-4020-4d4f-9b95-d0e82c48dbc7",
       "rows": [
        [
         "3",
         "0.5700000000000001"
        ],
        [
         "4",
         "0.5964150943396226"
        ],
        [
         "5",
         "0.6209691629955947"
        ],
        [
         "6",
         "0.6753291536050157"
        ],
        [
         "7",
         "0.7412562814070351"
        ],
        [
         "8",
         "0.7677777777777778"
        ]
       ],
       "shape": {
        "columns": 1,
        "rows": 6
       }
      },
      "text/html": [
       "<div>\n",
       "<style scoped>\n",
       "    .dataframe tbody tr th:only-of-type {\n",
       "        vertical-align: middle;\n",
       "    }\n",
       "\n",
       "    .dataframe tbody tr th {\n",
       "        vertical-align: top;\n",
       "    }\n",
       "\n",
       "    .dataframe thead th {\n",
       "        text-align: right;\n",
       "    }\n",
       "</style>\n",
       "<table border=\"1\" class=\"dataframe\">\n",
       "  <thead>\n",
       "    <tr style=\"text-align: right;\">\n",
       "      <th></th>\n",
       "      <th>sulfatos</th>\n",
       "    </tr>\n",
       "    <tr>\n",
       "      <th>qualidade</th>\n",
       "      <th></th>\n",
       "    </tr>\n",
       "  </thead>\n",
       "  <tbody>\n",
       "    <tr>\n",
       "      <th>3</th>\n",
       "      <td>0.570000</td>\n",
       "    </tr>\n",
       "    <tr>\n",
       "      <th>4</th>\n",
       "      <td>0.596415</td>\n",
       "    </tr>\n",
       "    <tr>\n",
       "      <th>5</th>\n",
       "      <td>0.620969</td>\n",
       "    </tr>\n",
       "    <tr>\n",
       "      <th>6</th>\n",
       "      <td>0.675329</td>\n",
       "    </tr>\n",
       "    <tr>\n",
       "      <th>7</th>\n",
       "      <td>0.741256</td>\n",
       "    </tr>\n",
       "    <tr>\n",
       "      <th>8</th>\n",
       "      <td>0.767778</td>\n",
       "    </tr>\n",
       "  </tbody>\n",
       "</table>\n",
       "</div>"
      ],
      "text/plain": [
       "           sulfatos\n",
       "qualidade          \n",
       "3          0.570000\n",
       "4          0.596415\n",
       "5          0.620969\n",
       "6          0.675329\n",
       "7          0.741256\n",
       "8          0.767778"
      ]
     },
     "execution_count": 14,
     "metadata": {},
     "output_type": "execute_result"
    }
   ],
   "source": [
    "# Média de sulfato / qualidade\n",
    "media_sulfato_qualidade = pd.DataFrame(df.groupby('qualidade')['sulfatos'].mean())\n",
    "media_sulfato_qualidade"
   ]
  },
  {
   "cell_type": "code",
   "execution_count": 15,
   "id": "2f3aa0b3",
   "metadata": {},
   "outputs": [
    {
     "data": {
      "image/png": "[encoded data removed]",
      "text/plain": [
       "<Figure size 1000x600 with 1 Axes>"
      ]
     },
     "metadata": {},
     "output_type": "display_data"
    }
   ],
   "source": [
    "# Gráfico de barra Sulfato / Qualidade do Vinho 0.25 de correlação\n",
    "grafo_barra(media_sulfato_qualidade, media_sulfato_qualidade.index, media_sulfato_qualidade['sulfatos'], media_sulfato_qualidade['sulfatos'],titulo='Sulfato vs qualidade do Vinho', ylabel='Sulfato', xlabel='Qualidade de Vinho')"
   ]
  },
  {
   "cell_type": "code",
   "execution_count": 16,
   "id": "a8b89cfb",
   "metadata": {},
   "outputs": [
    {
     "data": {
      "application/vnd.microsoft.datawrangler.viewer.v0+json": {
       "columns": [
        {
         "name": "qualidade",
         "rawType": "int64",
         "type": "integer"
        },
        {
         "name": "acido_citrico",
         "rawType": "float64",
         "type": "float"
        }
       ],
       "ref": "678e9239-9e8f-464c-a75c-a2112d8e458f",
       "rows": [
        [
         "3",
         "0.17099999999999999"
        ],
        [
         "4",
         "0.17415094339622642"
        ],
        [
         "5",
         "0.2436857562408223"
        ],
        [
         "6",
         "0.2738244514106583"
        ],
        [
         "7",
         "0.37517587939698493"
        ],
        [
         "8",
         "0.39111111111111113"
        ]
       ],
       "shape": {
        "columns": 1,
        "rows": 6
       }
      },
      "text/html": [
       "<div>\n",
       "<style scoped>\n",
       "    .dataframe tbody tr th:only-of-type {\n",
       "        vertical-align: middle;\n",
       "    }\n",
       "\n",
       "    .dataframe tbody tr th {\n",
       "        vertical-align: top;\n",
       "    }\n",
       "\n",
       "    .dataframe thead th {\n",
       "        text-align: right;\n",
       "    }\n",
       "</style>\n",
       "<table border=\"1\" class=\"dataframe\">\n",
       "  <thead>\n",
       "    <tr style=\"text-align: right;\">\n",
       "      <th></th>\n",
       "      <th>acido_citrico</th>\n",
       "    </tr>\n",
       "    <tr>\n",
       "      <th>qualidade</th>\n",
       "      <th></th>\n",
       "    </tr>\n",
       "  </thead>\n",
       "  <tbody>\n",
       "    <tr>\n",
       "      <th>3</th>\n",
       "      <td>0.171000</td>\n",
       "    </tr>\n",
       "    <tr>\n",
       "      <th>4</th>\n",
       "      <td>0.174151</td>\n",
       "    </tr>\n",
       "    <tr>\n",
       "      <th>5</th>\n",
       "      <td>0.243686</td>\n",
       "    </tr>\n",
       "    <tr>\n",
       "      <th>6</th>\n",
       "      <td>0.273824</td>\n",
       "    </tr>\n",
       "    <tr>\n",
       "      <th>7</th>\n",
       "      <td>0.375176</td>\n",
       "    </tr>\n",
       "    <tr>\n",
       "      <th>8</th>\n",
       "      <td>0.391111</td>\n",
       "    </tr>\n",
       "  </tbody>\n",
       "</table>\n",
       "</div>"
      ],
      "text/plain": [
       "           acido_citrico\n",
       "qualidade               \n",
       "3               0.171000\n",
       "4               0.174151\n",
       "5               0.243686\n",
       "6               0.273824\n",
       "7               0.375176\n",
       "8               0.391111"
      ]
     },
     "execution_count": 16,
     "metadata": {},
     "output_type": "execute_result"
    }
   ],
   "source": [
    "# Média de Ácido Cítrico / qualidade\n",
    "media_citrico_qualidade = pd.DataFrame(df.groupby('qualidade')['acido_citrico'].mean())\n",
    "media_citrico_qualidade"
   ]
  },
  {
   "cell_type": "code",
   "execution_count": 18,
   "id": "8b145af3",
   "metadata": {},
   "outputs": [
    {
     "data": {
      "image/png": "[encoded data removed]",
      "text/plain": [
       "<Figure size 1000x600 with 1 Axes>"
      ]
     },
     "metadata": {},
     "output_type": "display_data"
    }
   ],
   "source": [
    "# Gráfico de barra Sulfato / Qualidade do Vinho 0.25 de correlação\n",
    "grafo_barra(media_citrico_qualidade, media_citrico_qualidade.index, media_citrico_qualidade['acido_citrico'], media_citrico_qualidade['acido_citrico'],titulo='Ácido Cítrico vs qualidade do Vinho', ylabel='Ácido Cítrico', xlabel='Qualidade de Vinho')"
   ]
  }
 ],
 "metadata": {
  "kernelspec": {
   "display_name": "Portifolio_Data_Analytics-vinhos_jackwine",
   "language": "python",
   "name": "python3"
  },
  "language_info": {
   "codemirror_mode": {
    "name": "ipython",
    "version": 3
   },
   "file_extension": ".py",
   "mimetype": "text/x-python",
   "name": "python",
   "nbconvert_exporter": "python",
   "pygments_lexer": "ipython3",
   "version": "3.11.13"
  }
 },
 "nbformat": 4,
 "nbformat_minor": 5
}
